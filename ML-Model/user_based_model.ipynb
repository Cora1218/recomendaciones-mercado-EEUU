{
 "cells": [
  {
   "cell_type": "markdown",
   "id": "c85de3d3-efe5-4324-bde6-06d973450da8",
   "metadata": {
    "vscode": {
     "languageId": "python"
    }
   },
   "source": [
    "#### User based recommendation system"
   ]
  },
  {
   "cell_type": "markdown",
   "id": "018bd635",
   "metadata": {},
   "source": [
    "Install necessary external libraries"
   ]
  },
  {
   "cell_type": "code",
   "execution_count": 3,
   "id": "353a725a-d73d-4481-81c7-1b1bd7cdb0c5",
   "metadata": {},
   "outputs": [
    {
     "name": "stdout",
     "output_type": "stream",
     "text": [
      "Requirement already satisfied: scikit-surprise in /opt/conda/lib/python3.7/site-packages (1.1.1)\n",
      "Requirement already satisfied: joblib>=0.11 in /opt/conda/lib/python3.7/site-packages (from scikit-surprise) (1.2.0)\n",
      "Requirement already satisfied: numpy>=1.11.2 in /opt/conda/lib/python3.7/site-packages (from scikit-surprise) (1.21.6)\n",
      "Requirement already satisfied: scipy>=1.0.0 in /opt/conda/lib/python3.7/site-packages (from scikit-surprise) (1.7.3)\n",
      "Requirement already satisfied: six>=1.10.0 in /opt/conda/lib/python3.7/site-packages (from scikit-surprise) (1.16.0)\n"
     ]
    }
   ],
   "source": [
    "!pip install scikit-surprise"
   ]
  },
  {
   "cell_type": "markdown",
   "id": "d6842f82",
   "metadata": {},
   "source": [
    "Import libraries to be used inside the project"
   ]
  },
  {
   "cell_type": "code",
   "execution_count": 4,
   "id": "c43a0501-e8dc-46a3-9153-b97a14440ee3",
   "metadata": {},
   "outputs": [],
   "source": [
    "import joblib\n",
    "import numpy as np\n",
    "import pandas as pd\n",
    "import pandas_gbq\n",
    "from surprise import (\n",
    "    Reader,\n",
    "    Dataset,\n",
    "    accuracy,\n",
    "    SVD\n",
    ")\n",
    "from surprise.model_selection import (\n",
    "    train_test_split,\n",
    "    cross_validate,\n",
    "    GridSearchCV\n",
    ")"
   ]
  },
  {
   "cell_type": "markdown",
   "id": "537df0ed",
   "metadata": {},
   "source": [
    "Set up credentials and project_id"
   ]
  },
  {
   "cell_type": "code",
   "execution_count": 5,
   "id": "b0a5c882",
   "metadata": {},
   "outputs": [],
   "source": [
    "PROJECT_ID: str = \"proyectofinal-389001\"\n",
    "pandas_gbq.context.project = PROJECT_ID\n",
    "pandas_gbq.context.dialect = \"standard\""
   ]
  },
  {
   "cell_type": "markdown",
   "id": "f8650869",
   "metadata": {},
   "source": [
    "Perform query on Google Maps reviews table in BigQuery"
   ]
  },
  {
   "cell_type": "code",
   "execution_count": 6,
   "id": "cbf684c8-7cc0-4ded-a3c4-a203231d0672",
   "metadata": {},
   "outputs": [],
   "source": [
    "query_users: str = f\"\"\"--sql\n",
    "SELECT\n",
    "    user_id,\n",
    "    business_id,\n",
    "    rating\n",
    "FROM `{PROJECT_ID}.Google.Reviews`;\n",
    "\"\"\"\n",
    "\n",
    "users_df = pd.read_gbq(\n",
    "    query=query_users,\n",
    "    location=\"us\"\n",
    ")"
   ]
  },
  {
   "cell_type": "markdown",
   "id": "76b28565",
   "metadata": {},
   "source": [
    "Take a random sample of around 20% of the DataFrame"
   ]
  },
  {
   "cell_type": "code",
   "execution_count": 7,
   "id": "271377b6-d713-469d-ae2a-56a12e8212e2",
   "metadata": {},
   "outputs": [],
   "source": [
    "users_df = users_df.sample(frac=.2)"
   ]
  },
  {
   "cell_type": "markdown",
   "id": "67113d40",
   "metadata": {},
   "source": [
    "Filter all ratings higher or equal than 3"
   ]
  },
  {
   "cell_type": "code",
   "execution_count": 8,
   "id": "51f16f6d-b0ae-405f-b792-bc328313c4f5",
   "metadata": {},
   "outputs": [],
   "source": [
    "res = users_df[users_df[\"rating\"] >= 3]"
   ]
  },
  {
   "cell_type": "markdown",
   "id": "97681148",
   "metadata": {},
   "source": [
    "Turns the DataFrame into an object readable by surprise\n",
    "Values where taken from unique records of rating column"
   ]
  },
  {
   "cell_type": "code",
   "execution_count": 9,
   "id": "819bad3d-cbd3-4f76-9651-72a863213a35",
   "metadata": {},
   "outputs": [],
   "source": [
    "reader = Reader(line_format=\"user item rating\", rating_scale=(1, 5))\n",
    "data = Dataset.load_from_df(res, reader)"
   ]
  },
  {
   "cell_type": "markdown",
   "id": "02b4030f",
   "metadata": {},
   "source": [
    "Create training and test sets"
   ]
  },
  {
   "cell_type": "code",
   "execution_count": 10,
   "id": "40f0114b-70a0-4d58-8c98-73bba40115fc",
   "metadata": {},
   "outputs": [],
   "source": [
    "train_set, test_set = train_test_split(data, test_size=.2)"
   ]
  },
  {
   "cell_type": "markdown",
   "id": "78e01b9a",
   "metadata": {},
   "source": [
    "Instantiate model"
   ]
  },
  {
   "cell_type": "code",
   "execution_count": 11,
   "id": "7c4d2c23-eaec-40dd-b12c-b419d1792d15",
   "metadata": {
    "tags": []
   },
   "outputs": [],
   "source": [
    "user_model = SVD()"
   ]
  },
  {
   "cell_type": "markdown",
   "id": "490e5ee2",
   "metadata": {},
   "source": [
    "Train the model"
   ]
  },
  {
   "cell_type": "code",
   "execution_count": 12,
   "id": "dae57ac9-a90f-4d28-853b-c2aef51032b2",
   "metadata": {},
   "outputs": [
    {
     "data": {
      "text/plain": [
       "<surprise.prediction_algorithms.matrix_factorization.SVD at 0x7f3f6a62b310>"
      ]
     },
     "execution_count": 12,
     "metadata": {},
     "output_type": "execute_result"
    }
   ],
   "source": [
    "user_model.fit(train_set)"
   ]
  },
  {
   "cell_type": "markdown",
   "id": "77568666",
   "metadata": {},
   "source": [
    "Predict based on test set"
   ]
  },
  {
   "cell_type": "code",
   "execution_count": 13,
   "id": "b3909c69-73e7-4f79-8b8d-dfdb3af8dc56",
   "metadata": {},
   "outputs": [],
   "source": [
    "predictions = user_model.test(test_set)"
   ]
  },
  {
   "cell_type": "markdown",
   "id": "1dc79990",
   "metadata": {},
   "source": [
    "Calculate MAE (Mean Absolute Error)"
   ]
  },
  {
   "cell_type": "code",
   "execution_count": 14,
   "id": "90f59c3d-d56b-4c98-8689-15b6791f3a5c",
   "metadata": {},
   "outputs": [
    {
     "name": "stdout",
     "output_type": "stream",
     "text": [
      "MAE:  0.5124\n"
     ]
    },
    {
     "data": {
      "text/plain": [
       "0.5123668463587575"
      ]
     },
     "execution_count": 14,
     "metadata": {},
     "output_type": "execute_result"
    }
   ],
   "source": [
    "accuracy.mae(predictions)"
   ]
  },
  {
   "cell_type": "markdown",
   "id": "38a9a4ed",
   "metadata": {},
   "source": [
    "Show a single prediction from the test set"
   ]
  },
  {
   "cell_type": "code",
   "execution_count": 15,
   "id": "35784e50-df72-4bfb-bb22-de90fa08b63a",
   "metadata": {},
   "outputs": [
    {
     "data": {
      "text/plain": [
       "Prediction(uid='1.1788490110017312e+20', iid='0x89c6c1c9505b23d5:0xfab519270506a6a1', r_ui=5.0, est=4.613030962893049, details={'was_impossible': False})"
      ]
     },
     "execution_count": 15,
     "metadata": {},
     "output_type": "execute_result"
    }
   ],
   "source": [
    "predictions[10]"
   ]
  },
  {
   "cell_type": "markdown",
   "id": "6785d756",
   "metadata": {},
   "source": [
    "At this point, we should look for the best hyper-parameters to train the model with.\n",
    "<br>\n",
    "To accomplish this, we use cross validation:"
   ]
  },
  {
   "cell_type": "code",
   "execution_count": 16,
   "id": "c75b4a80-e8c6-4816-8b2a-1621c515a0c6",
   "metadata": {},
   "outputs": [
    {
     "name": "stdout",
     "output_type": "stream",
     "text": [
      "==================================================\n",
      "Evaluting with 1 factors\n",
      "Evaluating RMSE, MAE of algorithm SVD on 5 split(s).\n",
      "\n",
      "                  Fold 1  Fold 2  Fold 3  Fold 4  Fold 5  Mean    Std     \n",
      "RMSE (testset)    0.6208  0.6198  0.6200  0.6195  0.6220  0.6204  0.0009  \n",
      "MAE (testset)     0.5100  0.5094  0.5096  0.5093  0.5107  0.5098  0.0005  \n",
      "Fit time          40.45   41.13   41.21   41.27   41.51   41.11   0.36    \n",
      "Test time         5.65    3.34    3.25    5.48    5.53    4.65    1.11    \n",
      "==================================================\n",
      "Evaluting with 2 factors\n",
      "Evaluating RMSE, MAE of algorithm SVD on 5 split(s).\n",
      "\n",
      "                  Fold 1  Fold 2  Fold 3  Fold 4  Fold 5  Mean    Std     \n",
      "RMSE (testset)    0.6208  0.6196  0.6201  0.6203  0.6217  0.6205  0.0007  \n",
      "MAE (testset)     0.5101  0.5094  0.5098  0.5098  0.5105  0.5099  0.0004  \n",
      "Fit time          41.68   42.37   43.00   42.79   41.98   42.36   0.49    \n",
      "Test time         3.39    3.32    3.28    5.47    5.58    4.21    1.08    \n",
      "==================================================\n",
      "Evaluting with 4 factors\n",
      "Evaluating RMSE, MAE of algorithm SVD on 5 split(s).\n",
      "\n",
      "                  Fold 1  Fold 2  Fold 3  Fold 4  Fold 5  Mean    Std     \n",
      "RMSE (testset)    0.6202  0.6208  0.6204  0.6203  0.6216  0.6207  0.0005  \n",
      "MAE (testset)     0.5098  0.5101  0.5097  0.5098  0.5104  0.5099  0.0002  \n",
      "Fit time          42.82   44.68   44.63   44.50   44.08   44.14   0.69    \n",
      "Test time         3.22    3.31    3.29    3.24    3.27    3.27    0.03    \n",
      "==================================================\n",
      "Evaluting with 8 factors\n",
      "Evaluating RMSE, MAE of algorithm SVD on 5 split(s).\n",
      "\n",
      "                  Fold 1  Fold 2  Fold 3  Fold 4  Fold 5  Mean    Std     \n",
      "RMSE (testset)    0.6211  0.6212  0.6212  0.6211  0.6194  0.6208  0.0007  \n",
      "MAE (testset)     0.5104  0.5101  0.5101  0.5102  0.5090  0.5100  0.0005  \n",
      "Fit time          46.91   50.14   50.23   48.61   48.76   48.93   1.21    \n",
      "Test time         5.57    3.42    3.37    3.27    5.68    4.26    1.12    \n",
      "==================================================\n",
      "Evaluting with 16 factors\n",
      "Evaluating RMSE, MAE of algorithm SVD on 5 split(s).\n",
      "\n",
      "                  Fold 1  Fold 2  Fold 3  Fold 4  Fold 5  Mean    Std     \n",
      "RMSE (testset)    0.6209  0.6208  0.6224  0.6204  0.6214  0.6212  0.0007  \n",
      "MAE (testset)     0.5103  0.5101  0.5107  0.5098  0.5104  0.5103  0.0003  \n",
      "Fit time          55.69   59.60   59.69   57.31   57.56   57.97   1.51    \n",
      "Test time         3.45    3.43    3.26    5.58    5.45    4.23    1.05    \n"
     ]
    }
   ],
   "source": [
    "rmse_test_means = [] #  perform cross-validation and return de results of the error metrics from the models\n",
    "# Factors should be a list of powers of 2\n",
    "# e.g: factors = [1,2,4,8,16,32,64,128,256]\n",
    "num_partitions: int = 5\n",
    "factors = [pow(2, n) for n in range(num_partitions)] #  list of latent factors for the model\n",
    "\n",
    "for factor in factors: \n",
    "    print(\"==================================================\")\n",
    "    print(f\"Evaluting with {factor} factors\")\n",
    "    # Instantiate an SVD model with n latent factors\n",
    "    eval_model = SVD(n_factors=factor)\n",
    "    # Apply cross_validate function for this model with 5 cross validation partitions\n",
    "    cv_results = cross_validate(eval_model, data, measures=[\"RMSE\", \"MAE\"], cv=num_partitions, verbose=True)\n",
    "    # Return RMSE and MAE for each partition\n",
    "    rmse_test_means.append(np.mean(cv_results[\"test_rmse\"]))"
   ]
  },
  {
   "cell_type": "markdown",
   "id": "3ba94f9c",
   "metadata": {},
   "source": [
    "Using found parameters, search for the best posible model"
   ]
  },
  {
   "cell_type": "code",
   "execution_count": 17,
   "id": "7a9fc261-87ba-4375-ac8e-aa3a40f9aa33",
   "metadata": {
    "tags": []
   },
   "outputs": [
    {
     "name": "stderr",
     "output_type": "stream",
     "text": [
      "/opt/conda/lib/python3.7/site-packages/joblib/externals/loky/process_executor.py:703: UserWarning: A worker stopped while some jobs were given to the executor. This can be caused by a too short worker timeout or by a memory leak.\n",
      "  \"timeout or by a memory leak.\", UserWarning\n"
     ]
    },
    {
     "name": "stdout",
     "output_type": "stream",
     "text": [
      "Best scores: rmse -> 0.6232414784531176, mae -> 0.5140059307111632\n",
      "Best parameters: rmse -> {'n_factors': 5, 'n_epochs': 20, 'lr_all': 0.005, 'reg_all': 0.2}, mae -> {'n_factors': 5, 'n_epochs': 20, 'lr_all': 0.005, 'reg_all': 0.002}\n"
     ]
    }
   ],
   "source": [
    "# Dict of params with different values for number of latent factors,\n",
    "# number of epochs, learning rate and regularization\n",
    "params = {\n",
    "    \"n_factors\": [5, 50, 100],\n",
    "    \"n_epochs\": [5, 10, 20],\n",
    "    \"lr_all\": [0.001, 0.002, 0.005],\n",
    "    \"reg_all\": [0.002, 0.02, 0.2]\n",
    "}\n",
    "# Find best model based on this params\n",
    "gs = GridSearchCV(SVD, params, measures=[\"RMSE\", \"MAE\"], cv=3, n_jobs=-1)\n",
    "gs.fit(data)\n",
    "\n",
    "print(f\"Best scores: rmse -> {gs.best_score['rmse']}, mae -> {gs.best_score['mae']}\")\n",
    "print(f\"Best parameters: rmse -> {gs.best_params['rmse']}, mae -> {gs.best_params['mae']}\")"
   ]
  },
  {
   "cell_type": "markdown",
   "id": "048721f5",
   "metadata": {},
   "source": [
    "Model with the found params"
   ]
  },
  {
   "cell_type": "code",
   "execution_count": 18,
   "id": "95276da1-8915-44ec-9eb2-16eb1a115614",
   "metadata": {},
   "outputs": [],
   "source": [
    "best_model = SVD(n_factors=5, n_epochs=20, lr_all=0.005, reg_all=0.2)"
   ]
  },
  {
   "cell_type": "markdown",
   "id": "7aa075e9",
   "metadata": {},
   "source": [
    "Train and test said model"
   ]
  },
  {
   "cell_type": "code",
   "execution_count": 19,
   "id": "c3b20d99-4ae6-4aee-b6c4-9740e4a1c81b",
   "metadata": {},
   "outputs": [],
   "source": [
    "best_model = gs.best_estimator[\"rmse\"]\n",
    "best_model.fit(train_set)\n",
    "predictions = best_model.test(test_set)"
   ]
  },
  {
   "cell_type": "markdown",
   "id": "4bed5362",
   "metadata": {},
   "source": [
    "Make a connection to Google Cloud Storage to store the trained model"
   ]
  },
  {
   "cell_type": "code",
   "execution_count": 20,
   "id": "c5467027",
   "metadata": {},
   "outputs": [],
   "source": [
    "from google.cloud import storage\n",
    "\n",
    "def upload_bucket(bucket_name: str,\n",
    "                  source_file_object: str,\n",
    "                  destination_blob_name: str\n",
    "                  ) -> None:\n",
    "    storage_client = storage.Client(project=PROJECT_ID)\n",
    "    bucket = storage_client.bucket(bucket_name=bucket_name)\n",
    "    blob = bucket.blob(blob_name=destination_blob_name)\n",
    "    \n",
    "    blob.upload_from_file(file_obj=source_file_object)"
   ]
  },
  {
   "cell_type": "markdown",
   "id": "75e01110",
   "metadata": {},
   "source": [
    "Save model as a joblib object and upload to Google Cloud Storage Bucket"
   ]
  },
  {
   "cell_type": "code",
   "execution_count": null,
   "id": "28f88fce-5124-4a88-8750-4239882897a2",
   "metadata": {},
   "outputs": [],
   "source": [
    "with open(\"model.joblib\", \"wb\") as jobfile_dump:\n",
    "    joblib.dump(best_model, jobfile_dump, protocol=4)\n",
    "\n",
    "with open(\"model.joblib\", \"rb\") as jobfile_load:\n",
    "    upload_bucket(\n",
    "        bucket_name=\"ml-models\",\n",
    "        source_file_object=jobfile_load,\n",
    "        destination_blob_name=\"datawise-consulting/model.joblib\"\n",
    "    )"
   ]
  }
 ],
 "metadata": {
  "environment": {
   "kernel": "python3",
   "name": "common-cu113.m109",
   "type": "gcloud",
   "uri": "gcr.io/deeplearning-platform-release/base-cu113:m109"
  },
  "kernelspec": {
   "display_name": "Python 3",
   "language": "python",
   "name": "python3"
  },
  "language_info": {
   "codemirror_mode": {
    "name": "ipython",
    "version": 3
   },
   "file_extension": ".py",
   "mimetype": "text/x-python",
   "name": "python",
   "nbconvert_exporter": "python",
   "pygments_lexer": "ipython3",
   "version": "3.11.3"
  }
 },
 "nbformat": 4,
 "nbformat_minor": 5
}
