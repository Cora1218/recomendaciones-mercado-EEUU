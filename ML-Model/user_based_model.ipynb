{
 "cells": [
  {
   "attachments": {},
   "cell_type": "markdown",
   "id": "c85de3d3-efe5-4324-bde6-06d973450da8",
   "metadata": {
    "vscode": {
     "languageId": "python"
    }
   },
   "source": [
    "#### User based recommendation system"
   ]
  },
  {
   "attachments": {},
   "cell_type": "markdown",
   "id": "018bd635",
   "metadata": {},
   "source": [
    "Install necessary external libraries"
   ]
  },
  {
   "cell_type": "code",
   "execution_count": null,
   "id": "353a725a-d73d-4481-81c7-1b1bd7cdb0c5",
   "metadata": {},
   "outputs": [
    {
     "name": "stdout",
     "output_type": "stream",
     "text": [
      "Collecting scikit-surprise\n",
      "  Using cached scikit_surprise-1.1.1-cp37-cp37m-linux_x86_64.whl\n",
      "Requirement already satisfied: numpy>=1.11.2 in /opt/conda/lib/python3.7/site-packages (from scikit-surprise) (1.21.6)\n",
      "Requirement already satisfied: joblib>=0.11 in /opt/conda/lib/python3.7/site-packages (from scikit-surprise) (1.2.0)\n",
      "Requirement already satisfied: six>=1.10.0 in /opt/conda/lib/python3.7/site-packages (from scikit-surprise) (1.16.0)\n",
      "Requirement already satisfied: scipy>=1.0.0 in /opt/conda/lib/python3.7/site-packages (from scikit-surprise) (1.7.3)\n",
      "Installing collected packages: scikit-surprise\n",
      "Successfully installed scikit-surprise-1.1.1\n"
     ]
    }
   ],
   "source": [
    "!pip install scikit-surprise"
   ]
  },
  {
   "cell_type": "code",
   "execution_count": null,
   "id": "587813b0-5cda-40eb-8dc7-452fade427fb",
   "metadata": {},
   "outputs": [
    {
     "name": "stdout",
     "output_type": "stream",
     "text": [
      "Requirement already satisfied: joblib in /opt/conda/lib/python3.7/site-packages (1.2.0)\n"
     ]
    }
   ],
   "source": [
    "!pip install joblib"
   ]
  },
  {
   "attachments": {},
   "cell_type": "markdown",
   "id": "d6842f82",
   "metadata": {},
   "source": [
    "Import libraries to be used inside the project"
   ]
  },
  {
   "cell_type": "code",
   "execution_count": null,
   "id": "c43a0501-e8dc-46a3-9153-b97a14440ee3",
   "metadata": {},
   "outputs": [],
   "source": [
    "import pandas as pd\n",
    "import pandas_gbq\n",
    "import numpy as np\n",
    "import joblib\n",
    "import pickle\n",
    "from scipy import sparse\n",
    "from surprise import Dataset, Reader\n",
    "from surprise import SVD\n",
    "from surprise import accuracy\n",
    "from surprise.model_selection import cross_validate\n",
    "from surprise.model_selection import train_test_split\n",
    "from surprise.model_selection import GridSearchCV\n",
    "from sklearn.model_selection import RandomizedSearchCV\n",
    "from joblib import parallel_backend"
   ]
  },
  {
   "attachments": {},
   "cell_type": "markdown",
   "id": "537df0ed",
   "metadata": {},
   "source": [
    "Set up credentials and project_id"
   ]
  },
  {
   "cell_type": "code",
   "execution_count": null,
   "id": "b0a5c882",
   "metadata": {},
   "outputs": [],
   "source": [
    "PROJECT_ID: str = \"proyectofinal-389001\"\n",
    "pandas_gbq.context.project = PROJECT_ID\n",
    "pandas_gbq.context.dialect = \"standard\""
   ]
  },
  {
   "attachments": {},
   "cell_type": "markdown",
   "id": "f8650869",
   "metadata": {},
   "source": [
    "Perform query on Google Maps reviews table in BigQuery"
   ]
  },
  {
   "cell_type": "code",
   "execution_count": null,
   "id": "cbf684c8-7cc0-4ded-a3c4-a203231d0672",
   "metadata": {},
   "outputs": [],
   "source": [
    "query_users = f\"\"\"\n",
    "SELECT\n",
    "    user_id,\n",
    "    business_id,\n",
    "    rating\n",
    "FROM `{PROJECT_ID}.Google.Reviews`\n",
    "\"\"\"\n",
    "\n",
    "users_df = pd.read_gbq(\n",
    "    query=query_users,\n",
    "    location=\"us\"\n",
    ")"
   ]
  },
  {
   "attachments": {},
   "cell_type": "markdown",
   "id": "76b28565",
   "metadata": {},
   "source": [
    "Take a random sample of around 20% of the DataFrame"
   ]
  },
  {
   "cell_type": "code",
   "execution_count": null,
   "id": "271377b6-d713-469d-ae2a-56a12e8212e2",
   "metadata": {},
   "outputs": [],
   "source": [
    "users_df = users_df.sample(frac=0.2)"
   ]
  },
  {
   "attachments": {},
   "cell_type": "markdown",
   "id": "67113d40",
   "metadata": {},
   "source": [
    "Filter all ratings higher or equal than 3"
   ]
  },
  {
   "cell_type": "code",
   "execution_count": null,
   "id": "51f16f6d-b0ae-405f-b792-bc328313c4f5",
   "metadata": {},
   "outputs": [],
   "source": [
    "res = users_df[users_df[\"rating\"] >= 3]"
   ]
  },
  {
   "attachments": {},
   "cell_type": "markdown",
   "id": "97681148",
   "metadata": {},
   "source": [
    "Turns the DataFrame into an object readable by surprise\n",
    "Values where taken from unique records of rating column"
   ]
  },
  {
   "cell_type": "code",
   "execution_count": null,
   "id": "819bad3d-cbd3-4f76-9651-72a863213a35",
   "metadata": {},
   "outputs": [],
   "source": [
    "reader = Reader(line_format=\"user item rating\", rating_scale=(1, 5))\n",
    "data = Dataset.load_from_df(res, reader)"
   ]
  },
  {
   "attachments": {},
   "cell_type": "markdown",
   "id": "02b4030f",
   "metadata": {},
   "source": [
    "Create training and test sets"
   ]
  },
  {
   "cell_type": "code",
   "execution_count": null,
   "id": "40f0114b-70a0-4d58-8c98-73bba40115fc",
   "metadata": {},
   "outputs": [],
   "source": [
    "train_set, test_set = train_test_split(data, test_size=.2)"
   ]
  },
  {
   "attachments": {},
   "cell_type": "markdown",
   "id": "78e01b9a",
   "metadata": {},
   "source": [
    "Instantiate model"
   ]
  },
  {
   "cell_type": "code",
   "execution_count": null,
   "id": "7c4d2c23-eaec-40dd-b12c-b419d1792d15",
   "metadata": {
    "tags": []
   },
   "outputs": [],
   "source": [
    "user_model = SVD()"
   ]
  },
  {
   "attachments": {},
   "cell_type": "markdown",
   "id": "490e5ee2",
   "metadata": {},
   "source": [
    "Train the model"
   ]
  },
  {
   "cell_type": "code",
   "execution_count": null,
   "id": "dae57ac9-a90f-4d28-853b-c2aef51032b2",
   "metadata": {},
   "outputs": [
    {
     "data": {
      "text/plain": [
       "<surprise.prediction_algorithms.matrix_factorization.SVD at 0x7fd09dd834d0>"
      ]
     },
     "execution_count": 13,
     "metadata": {},
     "output_type": "execute_result"
    }
   ],
   "source": [
    "user_model.fit(train_set)"
   ]
  },
  {
   "attachments": {},
   "cell_type": "markdown",
   "id": "77568666",
   "metadata": {},
   "source": [
    "Predict based on test set"
   ]
  },
  {
   "cell_type": "code",
   "execution_count": null,
   "id": "b3909c69-73e7-4f79-8b8d-dfdb3af8dc56",
   "metadata": {},
   "outputs": [],
   "source": [
    "predictions = user_model.test(test_set)"
   ]
  },
  {
   "attachments": {},
   "cell_type": "markdown",
   "id": "1dc79990",
   "metadata": {},
   "source": [
    "Calculate MAE (Mean Absolute Error)"
   ]
  },
  {
   "cell_type": "code",
   "execution_count": null,
   "id": "90f59c3d-d56b-4c98-8689-15b6791f3a5c",
   "metadata": {},
   "outputs": [
    {
     "name": "stdout",
     "output_type": "stream",
     "text": [
      "MAE:  0.5696\n"
     ]
    },
    {
     "data": {
      "text/plain": [
       "0.5695724517017111"
      ]
     },
     "execution_count": 15,
     "metadata": {},
     "output_type": "execute_result"
    }
   ],
   "source": [
    "accuracy.mae(predictions)"
   ]
  },
  {
   "attachments": {},
   "cell_type": "markdown",
   "id": "38a9a4ed",
   "metadata": {},
   "source": [
    "Show a single prediction from the test set"
   ]
  },
  {
   "cell_type": "code",
   "execution_count": null,
   "id": "35784e50-df72-4bfb-bb22-de90fa08b63a",
   "metadata": {},
   "outputs": [
    {
     "data": {
      "text/plain": [
       "Prediction(uid=1.182920086e+20, iid='0x80803550e8d2cbd9:0xbc89dc0b1315dae7', r_ui=5.0, est=4.548114093127432, details={'was_impossible': False})"
      ]
     },
     "execution_count": 16,
     "metadata": {},
     "output_type": "execute_result"
    }
   ],
   "source": [
    "predictions[10]"
   ]
  },
  {
   "attachments": {},
   "cell_type": "markdown",
   "id": "6785d756",
   "metadata": {},
   "source": [
    "At this point, we should look for the best hyper-parameters to train the model with.\n",
    "<br>\n",
    "To accomplish this, we use cross validation:"
   ]
  },
  {
   "cell_type": "code",
   "execution_count": null,
   "id": "c75b4a80-e8c6-4816-8b2a-1621c515a0c6",
   "metadata": {},
   "outputs": [
    {
     "name": "stdout",
     "output_type": "stream",
     "text": [
      "==================================================\n",
      "Evaluando con  1  factores\n",
      "Evaluating RMSE, MAE of algorithm SVD on 5 split(s).\n",
      "\n",
      "                  Fold 1  Fold 2  Fold 3  Fold 4  Fold 5  Mean    Std     \n",
      "RMSE (testset)    0.6679  0.6707  0.6723  0.6699  0.6695  0.6701  0.0015  \n",
      "MAE (testset)     0.5689  0.5708  0.5715  0.5698  0.5697  0.5701  0.0009  \n",
      "Fit time          8.48    8.62    13.58   12.76   9.12    10.51   2.19    \n",
      "Test time         0.94    0.91    1.38    0.92    0.91    1.01    0.18    \n",
      "==================================================\n",
      "Evaluando con  2  factores\n",
      "Evaluating RMSE, MAE of algorithm SVD on 5 split(s).\n",
      "\n",
      "                  Fold 1  Fold 2  Fold 3  Fold 4  Fold 5  Mean    Std     \n",
      "RMSE (testset)    0.6716  0.6686  0.6715  0.6692  0.6708  0.6703  0.0012  \n",
      "MAE (testset)     0.5713  0.5694  0.5710  0.5698  0.5707  0.5704  0.0007  \n",
      "Fit time          9.01    13.40   13.15   9.32    9.21    10.82   2.01    \n",
      "Test time         0.90    1.35    0.87    1.41    0.89    1.09    0.24    \n",
      "==================================================\n",
      "Evaluando con  4  factores\n",
      "Evaluating RMSE, MAE of algorithm SVD on 5 split(s).\n",
      "\n",
      "                  Fold 1  Fold 2  Fold 3  Fold 4  Fold 5  Mean    Std     \n",
      "RMSE (testset)    0.6687  0.6696  0.6701  0.6699  0.6730  0.6703  0.0015  \n",
      "MAE (testset)     0.5693  0.5698  0.5705  0.5700  0.5721  0.5703  0.0010  \n",
      "Fit time          12.93   14.28   9.66    9.55    14.27   12.14   2.13    \n",
      "Test time         1.40    1.71    0.94    1.42    1.38    1.37    0.25    \n",
      "==================================================\n",
      "Evaluando con  8  factores\n",
      "Evaluating RMSE, MAE of algorithm SVD on 5 split(s).\n",
      "\n",
      "                  Fold 1  Fold 2  Fold 3  Fold 4  Fold 5  Mean    Std     \n",
      "RMSE (testset)    0.6664  0.6695  0.6707  0.6716  0.6720  0.6700  0.0020  \n",
      "MAE (testset)     0.5676  0.5701  0.5708  0.5708  0.5714  0.5701  0.0013  \n",
      "Fit time          15.43   11.27   12.48   16.12   10.64   13.19   2.20    \n",
      "Test time         0.90    0.96    1.38    1.36    1.45    1.21    0.23    \n",
      "==================================================\n",
      "Evaluando con  16  factores\n",
      "Evaluating RMSE, MAE of algorithm SVD on 5 split(s).\n",
      "\n",
      "                  Fold 1  Fold 2  Fold 3  Fold 4  Fold 5  Mean    Std     \n",
      "RMSE (testset)    0.6712  0.6701  0.6698  0.6711  0.6692  0.6703  0.0008  \n",
      "MAE (testset)     0.5705  0.5704  0.5704  0.5710  0.5698  0.5704  0.0004  \n",
      "Fit time          12.58   18.95   14.72   12.49   17.13   15.17   2.54    \n",
      "Test time         1.17    1.40    0.88    1.40    1.34    1.24    0.20    \n",
      "==================================================\n",
      "Evaluando con  32  factores\n",
      "Evaluating RMSE, MAE of algorithm SVD on 5 split(s).\n",
      "\n",
      "                  Fold 1  Fold 2  Fold 3  Fold 4  Fold 5  Mean    Std     \n",
      "RMSE (testset)    0.6674  0.6730  0.6707  0.6721  0.6686  0.6704  0.0021  \n",
      "MAE (testset)     0.5686  0.5722  0.5711  0.5714  0.5694  0.5706  0.0013  \n",
      "Fit time          20.02   16.15   24.25   16.53   18.52   19.09   2.93    \n",
      "Test time         0.89    0.88    1.34    1.36    1.33    1.16    0.23    \n"
     ]
    }
   ],
   "source": [
    "from surprise.model_selection import cross_validate\n",
    "\n",
    "rmse_test_means = [] #  perform cross-validation and return de results of the error metrics from the models\n",
    "# Factors should be a list of powers of 2\n",
    "# e.g: factors = [1,2,4,8,16,32,64,128,256]\n",
    "num_partitions: int = 5\n",
    "factors = [pow(2, n) for n in range(num_partitions)] #  list of latent factors for the model\n",
    "\n",
    "for factor in factors: \n",
    "    print(\"==================================================\")\n",
    "    print(f\"Evaluting with {factor} factors\")\n",
    "    # Instantiate an SVD model with n latent factors\n",
    "    eval_model = SVD(n_factors=factor)\n",
    "    # Apply cross_validate function for this model with 5 cross validation partitions\n",
    "    cv_results = cross_validate(eval_model, data, measures=[\"RMSE\", \"MAE\"], cv=num_partitions, verbose=True)\n",
    "    # Return RMSE and MAE for each partition\n",
    "    rmse_test_means.append(np.mean(cv_results[\"test_rmse\"]))"
   ]
  },
  {
   "attachments": {},
   "cell_type": "markdown",
   "id": "3ba94f9c",
   "metadata": {},
   "source": [
    "Using found parameters, search for the best posible model"
   ]
  },
  {
   "cell_type": "code",
   "execution_count": null,
   "id": "7a9fc261-87ba-4375-ac8e-aa3a40f9aa33",
   "metadata": {
    "tags": []
   },
   "outputs": [
    {
     "name": "stdout",
     "output_type": "stream",
     "text": [
      "mejores puntajes : rmse -> 0.6708501240485192  mae -> 0.5724308090415433\n",
      "mejores parámetros : rmse -> {'n_factors': 5, 'n_epochs': 20, 'lr_all': 0.005, 'reg_all': 0.2}  mae -> {'n_factors': 5, 'n_epochs': 20, 'lr_all': 0.005, 'reg_all': 0.002}\n"
     ]
    }
   ],
   "source": [
    "# Dict of params with different values for number of latent factors,\n",
    "# number of epochs, learning rate and regularization\n",
    "params = {\n",
    "    \"n_factors\": [5, 50, 100],\n",
    "    \"n_epochs\": [5, 10, 20],\n",
    "    \"lr_all\": [0.001, 0.002, 0.005],\n",
    "    \"reg_all\": [0.002, 0.02, 0.2]\n",
    "}\n",
    "# Find best model based on this params\n",
    "gs = GridSearchCV(SVD, params, measures=[\"RMSE\", \"MAE\"], cv=3, n_jobs=-1)\n",
    "gs.fit(data)\n",
    "\n",
    "print(f\"Best scores: rmse -> {gs.best_score['rmse']}, mae -> {gs.best_score['mae']}\")\n",
    "print(f\"Best parameters: rmse -> {gs.best_params['rmse']}, mae -> {gs.best_params['mae']}\")"
   ]
  },
  {
   "attachments": {},
   "cell_type": "markdown",
   "id": "048721f5",
   "metadata": {},
   "source": [
    "Model with the found params"
   ]
  },
  {
   "cell_type": "code",
   "execution_count": null,
   "id": "95276da1-8915-44ec-9eb2-16eb1a115614",
   "metadata": {},
   "outputs": [],
   "source": [
    "best_model = SVD(n_factors=5, n_epochs=5, lr_all=0.005, reg_all=0.002)"
   ]
  },
  {
   "attachments": {},
   "cell_type": "markdown",
   "id": "7aa075e9",
   "metadata": {},
   "source": [
    "Train and test said model"
   ]
  },
  {
   "cell_type": "code",
   "execution_count": null,
   "id": "c3b20d99-4ae6-4aee-b6c4-9740e4a1c81b",
   "metadata": {},
   "outputs": [],
   "source": [
    "best_model = gs.best_estimator[\"rmse\"]\n",
    "best_model.fit(train_set)\n",
    "predictions = best_model.test(test_set)"
   ]
  },
  {
   "attachments": {},
   "cell_type": "markdown",
   "id": "75e01110",
   "metadata": {},
   "source": [
    "Save model as a joblib object"
   ]
  },
  {
   "cell_type": "code",
   "execution_count": null,
   "id": "28f88fce-5124-4a88-8750-4239882897a2",
   "metadata": {},
   "outputs": [
    {
     "data": {
      "text/plain": [
       "['modelo.joblib']"
      ]
     },
     "execution_count": 30,
     "metadata": {},
     "output_type": "execute_result"
    }
   ],
   "source": [
    "joblib.dump(best_model, \"modelo.joblib\")"
   ]
  }
 ],
 "metadata": {
  "kernelspec": {
   "display_name": ".venv",
   "language": "python",
   "name": "python3"
  },
  "language_info": {
   "name": "python",
   "version": "3.11.3"
  }
 },
 "nbformat": 4,
 "nbformat_minor": 5
}
