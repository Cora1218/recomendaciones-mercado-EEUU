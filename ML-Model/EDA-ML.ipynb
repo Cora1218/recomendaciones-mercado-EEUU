{
 "cells": [
  {
   "attachments": {},
   "cell_type": "markdown",
   "metadata": {},
   "source": [
    "Import necessary libraries"
   ]
  },
  {
   "cell_type": "code",
   "execution_count": 1,
   "metadata": {},
   "outputs": [],
   "source": [
    "import pandas as pd\n",
    "import pandas_gbq\n",
    "import matplotlib.pyplot as plt\n",
    "import seaborn as sns"
   ]
  },
  {
   "attachments": {},
   "cell_type": "markdown",
   "metadata": {},
   "source": [
    "Set up credentials or project id parameters"
   ]
  },
  {
   "cell_type": "code",
   "execution_count": null,
   "metadata": {},
   "outputs": [],
   "source": [
    "PROJECT_ID: str = \"proyectofinal-389001\"\n",
    "pandas_gbq.context.project = PROJECT_ID\n",
    "pandas_gbq.context.dialect = \"standard\""
   ]
  },
  {
   "attachments": {},
   "cell_type": "markdown",
   "metadata": {},
   "source": [
    "SQL query to Google BigQuery to load the \"Metadata\" table from the\n",
    "Google Maps dataset:"
   ]
  },
  {
   "cell_type": "code",
   "execution_count": null,
   "metadata": {},
   "outputs": [],
   "source": [
    "query: str = f\"\"\"--sql\n",
    "SELECT\n",
    "    *\n",
    "FROM `{PROJECT_ID}.Google.Metadata`;\n",
    "\"\"\"\n",
    "\n",
    "gm_meta_df = pd.read_gbq(\n",
    "    query=query,\n",
    "    location=\"us\"\n",
    ")"
   ]
  },
  {
   "attachments": {},
   "cell_type": "markdown",
   "metadata": {},
   "source": [
    "This is the resulting DataFrame we get from the previous query:"
   ]
  },
  {
   "cell_type": "code",
   "execution_count": null,
   "metadata": {},
   "outputs": [],
   "source": [
    "display(gm_meta_df.info(), gm_meta_df.head())"
   ]
  },
  {
   "cell_type": "code",
   "execution_count": null,
   "metadata": {},
   "outputs": [],
   "source": [
    "gm_meta_df.sort_values(\n",
    "    by=\"avg_rating\" and \"num_of_reviews\",\n",
    "    ascending=False\n",
    ").head()"
   ]
  },
  {
   "cell_type": "code",
   "execution_count": null,
   "metadata": {},
   "outputs": [],
   "source": [
    "gm_meta_df.describe()"
   ]
  },
  {
   "cell_type": "code",
   "execution_count": null,
   "metadata": {},
   "outputs": [],
   "source": [
    "gm_meta_df[\"states\"].value_counts()"
   ]
  },
  {
   "cell_type": "code",
   "execution_count": null,
   "metadata": {},
   "outputs": [],
   "source": [
    "gm_meta_df[\"avg_rating\"].value_counts()"
   ]
  },
  {
   "cell_type": "code",
   "execution_count": null,
   "metadata": {},
   "outputs": [],
   "source": [
    "gm_meta_df[\"category\"].value_counts()"
   ]
  },
  {
   "cell_type": "code",
   "execution_count": null,
   "metadata": {},
   "outputs": [],
   "source": [
    "display(\n",
    "    pd.crosstab(\n",
    "        index=gm_meta_df[\"states\"],\n",
    "        columns=gm_meta_df[\"avg_rating\"],\n",
    "        margins=True\n",
    "    )\n",
    ")"
   ]
  },
  {
   "cell_type": "code",
   "execution_count": null,
   "metadata": {},
   "outputs": [],
   "source": [
    "display(\n",
    "    pd.crosstab(\n",
    "        index=gm_meta_df[\"states\"],\n",
    "        columns=gm_meta_df[\"num_of_reviews\"],\n",
    "        margins=True\n",
    "    )\n",
    ")"
   ]
  },
  {
   "cell_type": "code",
   "execution_count": null,
   "metadata": {},
   "outputs": [],
   "source": [
    "plt.scatter(\n",
    "    x=gm_meta_df[\"avg_rating\"],\n",
    "    y=gm_meta_df[\"num_of_reviews\"]\n",
    ")\n",
    "plt.title(\"Cantidad estimada de ratings por valor\")\n",
    "plt.xlabel(\"Valor review\")\n",
    "plt.ylabel(\"Cantidad\")\n",
    "plt.color((0.5, 0.2, 0.2))\n",
    "plt.show()"
   ]
  },
  {
   "cell_type": "code",
   "execution_count": null,
   "metadata": {},
   "outputs": [],
   "source": [
    "plt.figure(figsize=(10, 8))\n",
    "plt.title(\"Valores de reseñas promedio por estado\")\n",
    "plt.xlabel(\"Estado\")\n",
    "plt.ylabel(\"Valor de reseñas\")\n",
    "plt.color((0.35, 0.66, 0.4))\n",
    "sns.lineplot(\n",
    "    data=gm_meta_df,\n",
    "    x=\"states\",\n",
    "    y=\"avg_rating\"\n",
    ");"
   ]
  },
  {
   "cell_type": "code",
   "execution_count": null,
   "metadata": {},
   "outputs": [],
   "source": [
    "plt.figure(figsize=(10, 8))\n",
    "plt.title(\"Cantidad de reseñas por estado\")\n",
    "plt.xlabel(\"Estado\")\n",
    "plt.ylabel(\"Cantidad de reseñas\")\n",
    "plt.color((0.2, 0.45, 0.7))\n",
    "sns.lineplot(\n",
    "    data=gm_meta_df,\n",
    "    x=\"states\",\n",
    "    y=\"num_of_reviews\"\n",
    ");"
   ]
  },
  {
   "attachments": {},
   "cell_type": "markdown",
   "metadata": {},
   "source": [
    "A este punto, para realizar un análisis más exhaustivo, es necesario que\n",
    "las variables categóricas sean \"traspasadas\" a variables numéricas, lo\n",
    "que se logra con la clase OrdinalEncoder de scikit-learn."
   ]
  },
  {
   "cell_type": "code",
   "execution_count": null,
   "metadata": {},
   "outputs": [],
   "source": [
    "from sklearn.preprocessing import OrdinalEncoder\n",
    "\n",
    "encoder = OrdinalEncoder()\n",
    "\n",
    "train_df = pd.DataFrame(index=gm_meta_df.index)\n",
    "\n",
    "for col in gm_meta_df.columns[:-2]:\n",
    "    print(f\"Encoding column {col} in dataframe...\")\n",
    "    encoder.fit(gm_meta_df[[col]])\n",
    "    train_df[f\"{col}-encoded\"] = encoder.transform(gm_meta_df[[col]])\n",
    "    print(f\"Done! Column {col}-encoded created.\")\n",
    "else:\n",
    "    display(\n",
    "        train_df.info(),\n",
    "        gm_meta_df.head(),\n",
    "        train_df.head()\n",
    "    )\n",
    "    del col, gm_meta_df"
   ]
  },
  {
   "attachments": {},
   "cell_type": "markdown",
   "metadata": {},
   "source": [
    "Show a correlation heatmap based on the ordinal encoded DataFrame:"
   ]
  },
  {
   "cell_type": "code",
   "execution_count": null,
   "metadata": {},
   "outputs": [],
   "source": [
    "def corr_heatmap(corr_df: pd.DataFrame) -> None:\n",
    "    plt.figure(figsize=(11, 9))\n",
    "    sns.heatmap(\n",
    "        data=corr_df,\n",
    "        cbar=True,\n",
    "        square=False,\n",
    "        annot=True,\n",
    "        fmt=\".2f\",\n",
    "        annot_kws={\"size\": 12},\n",
    "        cmap=\"coolwarm\"\n",
    "    )\n",
    "    plt.xticks(rotation=45)\n",
    "    plt.yticks(rotation=45)\n",
    "    plt.show()"
   ]
  },
  {
   "cell_type": "code",
   "execution_count": null,
   "metadata": {},
   "outputs": [],
   "source": [
    "corr_heatmap(train_df.corr())"
   ]
  },
  {
   "attachments": {},
   "cell_type": "markdown",
   "metadata": {},
   "source": [
    "New SQL query to load the \"Reviews\" table from the Google dataset:"
   ]
  },
  {
   "cell_type": "code",
   "execution_count": null,
   "metadata": {},
   "outputs": [],
   "source": [
    "query: str = f\"\"\"--sql\n",
    "SELECT\n",
    "    *\n",
    "FROM `{PROJECT_ID}.Google.Reviews`\n",
    "LIMIT 10000;\n",
    "\"\"\"\n",
    "\n",
    "gm_reviews_df = pd.read_gbq(\n",
    "    query=query,\n",
    "    location=\"us\"\n",
    ")"
   ]
  },
  {
   "attachments": {},
   "cell_type": "markdown",
   "metadata": {},
   "source": [
    "This is the resulting DataFrame:"
   ]
  },
  {
   "cell_type": "code",
   "execution_count": null,
   "metadata": {},
   "outputs": [],
   "source": [
    "display(gm_reviews_df.info(), gm_reviews_df.head())"
   ]
  },
  {
   "cell_type": "code",
   "execution_count": null,
   "metadata": {},
   "outputs": [],
   "source": [
    "gm_reviews_df.sort_values(by=\"rating\", ascending=False).head()"
   ]
  },
  {
   "cell_type": "code",
   "execution_count": null,
   "metadata": {},
   "outputs": [],
   "source": [
    "gm_reviews_df[\"rating\"].value_counts()"
   ]
  },
  {
   "cell_type": "code",
   "execution_count": null,
   "metadata": {},
   "outputs": [],
   "source": [
    "display(\n",
    "    pd.crosstab(\n",
    "        index=gm_reviews_df[\"rating\"],\n",
    "        columns=gm_reviews_df[\"date\"].dt.year,\n",
    "        margins=True\n",
    "    )\n",
    ")"
   ]
  }
 ],
 "metadata": {
  "kernelspec": {
   "display_name": ".venv",
   "language": "python",
   "name": "python3"
  },
  "language_info": {
   "codemirror_mode": {
    "name": "ipython",
    "version": 3
   },
   "file_extension": ".py",
   "mimetype": "text/x-python",
   "name": "python",
   "nbconvert_exporter": "python",
   "pygments_lexer": "ipython3",
   "version": "3.11.3"
  },
  "orig_nbformat": 4
 },
 "nbformat": 4,
 "nbformat_minor": 2
}
